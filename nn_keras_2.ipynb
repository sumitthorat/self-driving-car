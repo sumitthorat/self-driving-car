{
 "cells": [
  {
   "cell_type": "code",
   "execution_count": 1,
   "metadata": {
    "collapsed": true
   },
   "outputs": [
    {
     "name": "stderr",
     "output_type": "stream",
     "text": [
      "/Users/sumitthorat/Documents/self_driving_car/venv/lib/python2.7/site-packages/h5py/__init__.py:36: FutureWarning: Conversion of the second argument of issubdtype from `float` to `np.floating` is deprecated. In future, it will be treated as `np.float64 == np.dtype(float).type`.\n  from ._conv import register_converters as _register_converters\nUsing TensorFlow backend.\n"
     ]
    }
   ],
   "source": [
    "import os,cv2\n",
    "import time\n",
    "import numpy as np\n",
    "import matplotlib.pyplot as plt\n",
    "\n",
    "from sklearn.utils import shuffle\n",
    "from sklearn.model_selection import train_test_split\n",
    "\n",
    "# from keras import backend as K\n",
    "\n",
    "# K.set_image_dim_ordering('th')\n",
    "\n",
    "from keras.utils import np_utils\n",
    "import keras\n",
    "\n",
    "\n",
    "from keras.models import Sequential\n",
    "from keras.layers.convolutional import Conv2D\n",
    "from keras.layers.convolutional import MaxPooling2D\n",
    "from keras.layers.core import Activation\n",
    "from keras.layers.core import Flatten\n",
    "from keras.layers.core import Dense\n",
    "from keras.layers.core import Dropout\n",
    "from keras.optimizers import SGD\n",
    "from keras import backend as K\n",
    "K.set_image_dim_ordering('tf')\n",
    "from keras.optimizers import Adam\n",
    "from keras.preprocessing.image import ImageDataGenerator"
   ]
  },
  {
   "cell_type": "code",
   "execution_count": 2,
   "metadata": {},
   "outputs": [],
   "source": [
    "num_classes = 3"
   ]
  },
  {
   "cell_type": "code",
   "execution_count": 3,
   "metadata": {},
   "outputs": [],
   "source": [
    "data_list = []\n",
    "PATH = os.getcwd()\n",
    "# Define data path\n",
    "data_path = PATH + '/IOT_Project/training_images_raw'\n",
    "data_dir_list = os.listdir(data_path)"
   ]
  },
  {
   "cell_type": "code",
   "execution_count": 4,
   "metadata": {},
   "outputs": [
    {
     "name": "stdout",
     "output_type": "stream",
     "text": [
      "Size of fwd : 207\nfound 1 ds in fwd\nSize of fwd_left : 148\nfound 1 ds in fwd_left\nSize of fwd_right : 102\nfound 1 ds in fwd_right\n"
     ]
    }
   ],
   "source": [
    "for datadir in data_dir_list:\n",
    "    if not (datadir.endswith('.DS_Store') or datadir.endswith(\"l\") or datadir.endswith(\"r\")):\n",
    "        images_in_dir = os.listdir(data_path + '/' + datadir)\n",
    "        print(\"Size of \" + str(datadir) + \" : \" + str(len(images_in_dir)))\n",
    "        for single_image in images_in_dir:\n",
    "            if single_image.endswith('.DS_Store'):\n",
    "                print(\"found 1 ds in \" + datadir)\n",
    "            else:    \n",
    "                input_img = cv2.imread(data_path + '/'+ datadir + '/'+ single_image, 0)\n",
    "                input_img = input_img.reshape((38400))\n",
    "                data_list.append(input_img)"
   ]
  },
  {
   "cell_type": "code",
   "execution_count": null,
   "metadata": {},
   "outputs": [],
   "source": []
  }
 ],
 "metadata": {
  "kernelspec": {
   "display_name": "Python 2",
   "language": "python",
   "name": "python2"
  },
  "language_info": {
   "codemirror_mode": {
    "name": "ipython",
    "version": 2
   },
   "file_extension": ".py",
   "mimetype": "text/x-python",
   "name": "python",
   "nbconvert_exporter": "python",
   "pygments_lexer": "ipython2",
   "version": "2.7.6"
  }
 },
 "nbformat": 4,
 "nbformat_minor": 0
}
